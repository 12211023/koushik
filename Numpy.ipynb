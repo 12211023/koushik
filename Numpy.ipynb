{
  "cells": [
    {
      "cell_type": "code",
      "execution_count": null,
      "metadata": {
        "id": "ZMofmGtAIJ01",
        "colab": {
          "base_uri": "https://localhost:8080/"
        },
        "outputId": "400a788c-8f45-4b7b-d5ed-a5d19b7dba76"
      },
      "outputs": [
        {
          "output_type": "stream",
          "name": "stdout",
          "text": [
            "1D Array:\n",
            " [1 2 3 4 5]\n",
            "2D Array:\n",
            " [[1 2 3]\n",
            " [4 5 6]]\n",
            "3D Array:\n",
            " [[[ 1  2  3]\n",
            "  [ 4  5  6]]\n",
            "\n",
            " [[ 7  8  9]\n",
            "  [10 11 12]]]\n"
          ]
        }
      ],
      "source": [
        "# Importing numpy library\n",
        "import numpy as np\n",
        "\n",
        "# Creating arrays\n",
        "# Create a 1D array\n",
        "arr1 = np.array([1, 2, 3, 4, 5])\n",
        "\n",
        "# Create a 2D array\n",
        "arr2 = np.array([[1, 2, 3], [4, 5, 6]])\n",
        "\n",
        "# Create a 3D array\n",
        "arr3 = np.array([[[1, 2, 3], [4, 5, 6]], [[7, 8, 9], [10, 11, 12]]])\n",
        "\n",
        "# Print the arrays\n",
        "print(\"1D Array:\\n\", arr1)\n",
        "print(\"2D Array:\\n\", arr2)\n",
        "print(\"3D Array:\\n\", arr3)\n"
      ]
    },
    {
      "cell_type": "code",
      "source": [
        "# Array shape\n",
        "# Get the shape of the array\n",
        "shape = arr2.shape\n",
        "print(\"Shape of 2D array:\", shape)\n",
        "\n",
        "# Array reshaping\n",
        "# Reshape a 1D array to a 2D array\n",
        "reshaped_arr = arr1.reshape(1, 5)\n",
        "print(\"Reshaped 1D to 2D array:\\n\", reshaped_arr)\n"
      ],
      "metadata": {
        "colab": {
          "base_uri": "https://localhost:8080/"
        },
        "id": "yyODIBHDf9W_",
        "outputId": "9777bbb6-4f6f-43ce-8f6c-636abf3c3c03"
      },
      "execution_count": null,
      "outputs": [
        {
          "output_type": "stream",
          "name": "stdout",
          "text": [
            "Shape of 2D array: (2, 3)\n",
            "Reshaped 1D to 2D array:\n",
            " [[1 2 3 4 5]]\n"
          ]
        }
      ]
    },
    {
      "cell_type": "code",
      "source": [
        "# Array slicing\n",
        "# Slice elements from the first row and first two columns\n",
        "slice_arr = arr2[0, 0:2]\n",
        "print(\"Sliced array elements:\\n\", slice_arr)\n",
        "\n",
        "# Array indexing\n",
        "# Indexing the second element in the 1D array\n",
        "index_value = arr1[1]\n",
        "print(\"Second element in 1D array:\", index_value)\n",
        "\n",
        "# Boolean indexing\n",
        "# Get elements greater than 3\n",
        "bool_index = arr1[arr1 > 3]\n",
        "print(\"Elements greater than 3 in 1D array:\\n\", bool_index)\n"
      ],
      "metadata": {
        "colab": {
          "base_uri": "https://localhost:8080/"
        },
        "id": "xGKQ3u_ggHjS",
        "outputId": "77bced0c-e694-434b-b557-ba973aabdfca"
      },
      "execution_count": null,
      "outputs": [
        {
          "output_type": "stream",
          "name": "stdout",
          "text": [
            "Sliced array elements:\n",
            " [1 2]\n",
            "Second element in 1D array: 2\n",
            "Elements greater than 3 in 1D array:\n",
            " [4 5]\n"
          ]
        }
      ]
    },
    {
      "cell_type": "code",
      "source": [
        "# Array operations\n",
        "# Element-wise addition\n",
        "add_arr = arr1 + np.array([10, 10, 10, 10, 10])\n",
        "print(\"Element-wise addition:\\n\", add_arr)\n",
        "\n",
        "# Element-wise subtraction\n",
        "sub_arr = arr1 - np.array([1, 1, 1, 1, 1])\n",
        "print(\"Element-wise subtraction:\\n\", sub_arr)\n",
        "\n",
        "# Element-wise multiplication\n",
        "mul_arr = arr1 * np.array([2, 2, 2, 2, 2])\n",
        "print(\"Element-wise multiplication:\\n\", mul_arr)\n",
        "\n",
        "# Element-wise division\n",
        "div_arr = arr1 / np.array([2, 2, 2, 2, 2])\n",
        "print(\"Element-wise division:\\n\", div_arr)\n"
      ],
      "metadata": {
        "colab": {
          "base_uri": "https://localhost:8080/"
        },
        "id": "mFSlYjeJg77D",
        "outputId": "af4cd46b-297a-4fc3-9c77-cfc258f6ff68"
      },
      "execution_count": null,
      "outputs": [
        {
          "output_type": "stream",
          "name": "stdout",
          "text": [
            "Element-wise addition:\n",
            " [11 12 13 14 15]\n",
            "Element-wise subtraction:\n",
            " [0 1 2 3 4]\n",
            "Element-wise multiplication:\n",
            " [ 2  4  6  8 10]\n",
            "Element-wise division:\n",
            " [0.5 1.  1.5 2.  2.5]\n"
          ]
        }
      ]
    },
    {
      "cell_type": "code",
      "source": [
        "# Matrix multiplication\n",
        "mat_mul = np.dot(arr2, np.array([[1, 2], [3, 4], [5, 6]]))\n",
        "print(\"Matrix multiplication result:\\n\", mat_mul)\n"
      ],
      "metadata": {
        "colab": {
          "base_uri": "https://localhost:8080/"
        },
        "id": "gA6-cMUghG7s",
        "outputId": "3281ae5e-e746-4ee3-a219-9ba20113ed19"
      },
      "execution_count": null,
      "outputs": [
        {
          "output_type": "stream",
          "name": "stdout",
          "text": [
            "Matrix multiplication result:\n",
            " [[22 28]\n",
            " [49 64]]\n"
          ]
        }
      ]
    },
    {
      "cell_type": "code",
      "source": [
        "# Aggregate functions\n",
        "# Sum of elements in the array\n",
        "sum_arr = np.sum(arr1)\n",
        "print(\"Sum of elements in 1D array:\", sum_arr)\n",
        "\n",
        "# Mean of elements in the array\n",
        "mean_arr = np.mean(arr1)\n",
        "print(\"Mean of elements in 1D array:\", mean_arr)\n",
        "\n",
        "# Standard deviation of elements in the array\n",
        "std_arr = np.std(arr1)\n",
        "print(\"Standard deviation of elements in 1D array:\", std_arr)\n"
      ],
      "metadata": {
        "colab": {
          "base_uri": "https://localhost:8080/"
        },
        "id": "SsX3qixChPrL",
        "outputId": "e30bab8e-0c2c-4975-c675-1a60d66cec80"
      },
      "execution_count": null,
      "outputs": [
        {
          "output_type": "stream",
          "name": "stdout",
          "text": [
            "Sum of elements in 1D array: 15\n",
            "Mean of elements in 1D array: 3.0\n",
            "Standard deviation of elements in 1D array: 1.4142135623730951\n"
          ]
        }
      ]
    },
    {
      "cell_type": "code",
      "source": [
        "# Transpose of a matrix\n",
        "# Transpose a 2D array\n",
        "transpose_arr = arr2.T\n",
        "print(\"Transpose of 2D array:\\n\", transpose_arr)\n"
      ],
      "metadata": {
        "colab": {
          "base_uri": "https://localhost:8080/"
        },
        "id": "gERhq5nYhf-B",
        "outputId": "b4038e82-2793-497f-eb8c-5ce31b2656e4"
      },
      "execution_count": null,
      "outputs": [
        {
          "output_type": "stream",
          "name": "stdout",
          "text": [
            "Transpose of 2D array:\n",
            " [[1 4]\n",
            " [2 5]\n",
            " [3 6]]\n"
          ]
        }
      ]
    },
    {
      "cell_type": "code",
      "source": [
        "# Concatenate arrays\n",
        "# Concatenate two 1D arrays\n",
        "concat_arr = np.concatenate((arr1, np.array([6, 7, 8, 9, 10])))\n",
        "print(\"Concatenated array:\\n\", concat_arr)\n",
        "\n",
        "# Stack arrays\n",
        "# Stack two 1D arrays vertically\n",
        "stack_arr = np.vstack((arr1, np.array([6, 7, 8, 9, 10])))\n",
        "print(\"Vertically stacked array:\\n\", stack_arr)\n"
      ],
      "metadata": {
        "colab": {
          "base_uri": "https://localhost:8080/"
        },
        "id": "RA2ITp_Jhjku",
        "outputId": "520d1d99-f685-4078-ee45-d833784f0c11"
      },
      "execution_count": null,
      "outputs": [
        {
          "output_type": "stream",
          "name": "stdout",
          "text": [
            "Concatenated array:\n",
            " [ 1  2  3  4  5  6  7  8  9 10]\n",
            "Vertically stacked array:\n",
            " [[ 1  2  3  4  5]\n",
            " [ 6  7  8  9 10]]\n"
          ]
        }
      ]
    },
    {
      "cell_type": "code",
      "source": [
        "# Split arrays\n",
        "# Split a 1D array into three arrays\n",
        "split_arr = np.array_split(arr1, 3)\n",
        "print(\"Split arrays:\\n\", split_arr)\n"
      ],
      "metadata": {
        "colab": {
          "base_uri": "https://localhost:8080/"
        },
        "id": "Tfli5VgChmHY",
        "outputId": "e0224620-8d21-4fb5-c9c8-a2aa9582b5a5"
      },
      "execution_count": null,
      "outputs": [
        {
          "output_type": "stream",
          "name": "stdout",
          "text": [
            "Split arrays:\n",
            " [array([1, 2]), array([3, 4]), array([5])]\n"
          ]
        }
      ]
    },
    {
      "cell_type": "code",
      "source": [
        "# Array creation functions\n",
        "# Create an array of zeros\n",
        "zeros_arr = np.zeros((3, 3))\n",
        "print(\"Array of zeros:\\n\", zeros_arr)\n",
        "\n",
        "# Create an array of ones\n",
        "ones_arr = np.ones((3, 3))\n",
        "print(\"Array of ones:\\n\", ones_arr)\n",
        "\n",
        "# Create an identity matrix\n",
        "identity_matrix = np.eye(3)\n",
        "print(\"Identity matrix:\\n\", identity_matrix)\n",
        "\n",
        "# Create an array with random values\n",
        "random_arr = np.random.random((3, 3))\n",
        "print(\"Random array:\\n\", random_arr)\n"
      ],
      "metadata": {
        "id": "A-luFsQchxVU",
        "outputId": "02c20ccc-cbee-4bcd-8fbf-2465d24a97db",
        "colab": {
          "base_uri": "https://localhost:8080/"
        }
      },
      "execution_count": null,
      "outputs": [
        {
          "output_type": "stream",
          "name": "stdout",
          "text": [
            "Array of zeros:\n",
            " [[0. 0. 0.]\n",
            " [0. 0. 0.]\n",
            " [0. 0. 0.]]\n",
            "Array of ones:\n",
            " [[1. 1. 1.]\n",
            " [1. 1. 1.]\n",
            " [1. 1. 1.]]\n",
            "Identity matrix:\n",
            " [[1. 0. 0.]\n",
            " [0. 1. 0.]\n",
            " [0. 0. 1.]]\n",
            "Random array:\n",
            " [[0.23670386 0.30554048 0.03001187]\n",
            " [0.63224172 0.25771693 0.43190112]\n",
            " [0.84306919 0.67098991 0.76410435]]\n"
          ]
        }
      ]
    },
    {
      "cell_type": "code",
      "source": [
        "# Array sorting\n",
        "# Sort a 1D array\n",
        "sorted_arr = np.sort(arr1)\n",
        "print(\"Sorted 1D array:\\n\", sorted_arr)\n"
      ],
      "metadata": {
        "id": "l46AVPOqhzsv",
        "outputId": "232c2a74-8665-4ee6-9e6b-2fe42924e0de",
        "colab": {
          "base_uri": "https://localhost:8080/"
        }
      },
      "execution_count": null,
      "outputs": [
        {
          "output_type": "stream",
          "name": "stdout",
          "text": [
            "Sorted 1D array:\n",
            " [1 2 3 4 5]\n"
          ]
        }
      ]
    },
    {
      "cell_type": "code",
      "source": [
        "# Mathematical functions\n",
        "# Apply sin function to an array\n",
        "sin_arr = np.sin(arr1)\n",
        "print(\"Sin function applied to 1D array:\\n\", sin_arr)\n",
        "\n",
        "# Apply exponential function to an array\n",
        "exp_arr = np.exp(arr1)\n",
        "print(\"Exponential function applied to 1D array:\\n\", exp_arr)\n",
        "\n",
        "# Apply logarithm function to an array\n",
        "log_arr = np.log(arr1)\n",
        "print(\"Logarithm function applied to 1D array:\\n\", log_arr)\n"
      ],
      "metadata": {
        "id": "pas6pJehh2EA",
        "outputId": "27fd3a3c-8258-41f5-ad43-efe1bc7aa3c2",
        "colab": {
          "base_uri": "https://localhost:8080/"
        }
      },
      "execution_count": null,
      "outputs": [
        {
          "output_type": "stream",
          "name": "stdout",
          "text": [
            "Sin function applied to 1D array:\n",
            " [ 0.84147098  0.90929743  0.14112001 -0.7568025  -0.95892427]\n",
            "Exponential function applied to 1D array:\n",
            " [  2.71828183   7.3890561   20.08553692  54.59815003 148.4131591 ]\n",
            "Logarithm function applied to 1D array:\n",
            " [0.         0.69314718 1.09861229 1.38629436 1.60943791]\n"
          ]
        }
      ]
    },
    {
      "cell_type": "code",
      "source": [
        "# Linear algebra functions\n",
        "# Calculate the determinant of a matrix\n",
        "determinant = np.linalg.det(np.array([[1, 2], [3, 4]]))\n",
        "print(\"Determinant of matrix:\\n\", determinant)\n",
        "\n",
        "# Calculate the inverse of a matrix\n",
        "inverse_matrix = np.linalg.inv(np.array([[1, 2], [3, 4]]))\n",
        "print(\"Inverse of matrix:\\n\", inverse_matrix)\n",
        "\n",
        "# Calculate eigenvalues and eigenvectors\n",
        "eigenvalues, eigenvectors = np.linalg.eig(np.array([[1, 2], [3, 4]]))\n",
        "print(\"Eigenvalues:\\n\", eigenvalues)\n",
        "print(\"Eigenvectors:\\n\", eigenvectors)\n"
      ],
      "metadata": {
        "id": "SDTMLJK9h4SF",
        "outputId": "22a35612-f972-4360-9e2c-5a9418975b8c",
        "colab": {
          "base_uri": "https://localhost:8080/"
        }
      },
      "execution_count": null,
      "outputs": [
        {
          "output_type": "stream",
          "name": "stdout",
          "text": [
            "Determinant of matrix:\n",
            " -2.0000000000000004\n",
            "Inverse of matrix:\n",
            " [[-2.   1. ]\n",
            " [ 1.5 -0.5]]\n",
            "Eigenvalues:\n",
            " [-0.37228132  5.37228132]\n",
            "Eigenvectors:\n",
            " [[-0.82456484 -0.41597356]\n",
            " [ 0.56576746 -0.90937671]]\n"
          ]
        }
      ]
    },
    {
      "cell_type": "code",
      "source": [
        "# Handling missing values\n",
        "# Create an array with NaN values\n",
        "nan_arr = np.array([1, 2, np.nan, 4, 5])\n",
        "print(\"Array with NaN values:\\n\", nan_arr)\n",
        "\n",
        "# Check for NaN values\n",
        "nan_check = np.isnan(nan_arr)\n",
        "print(\"NaN check:\\n\", nan_check)\n",
        "\n",
        "# Replace NaN values with zero\n",
        "replace_nan = np.nan_to_num(nan_arr)\n",
        "print(\"Array after replacing NaN values:\\n\", replace_nan)\n"
      ],
      "metadata": {
        "id": "_tzD0oVBh6jH",
        "outputId": "29d45bed-9dce-4dfe-9ba5-0587c6661dba",
        "colab": {
          "base_uri": "https://localhost:8080/"
        }
      },
      "execution_count": null,
      "outputs": [
        {
          "output_type": "stream",
          "name": "stdout",
          "text": [
            "Array with NaN values:\n",
            " [ 1.  2. nan  4.  5.]\n",
            "NaN check:\n",
            " [False False  True False False]\n",
            "Array after replacing NaN values:\n",
            " [1. 2. 0. 4. 5.]\n"
          ]
        }
      ]
    },
    {
      "cell_type": "code",
      "source": [
        "# Array flattening\n",
        "# Flatten a 2D array to a 1D array\n",
        "flatten_arr = arr2.flatten()\n",
        "print(\"Flattened 2D array to 1D:\\n\", flatten_arr)\n"
      ],
      "metadata": {
        "id": "Z-8jf-OBh83t",
        "outputId": "6072dd31-c6ee-4601-9f68-ba4879b7f399",
        "colab": {
          "base_uri": "https://localhost:8080/"
        }
      },
      "execution_count": null,
      "outputs": [
        {
          "output_type": "stream",
          "name": "stdout",
          "text": [
            "Flattened 2D array to 1D:\n",
            " [1 2 3 4 5 6]\n"
          ]
        }
      ]
    },
    {
      "cell_type": "code",
      "source": [
        "# Array stacking\n",
        "# Horizontal stacking of two arrays\n",
        "hstack_arr = np.hstack((arr1, np.array([6, 7, 8, 9, 10])))\n",
        "print(\"Horizontally stacked arrays:\\n\", hstack_arr)\n",
        "\n",
        "# Depth stacking of two 3D arrays\n",
        "dstack_arr = np.dstack((arr3, arr3))\n",
        "print(\"Depth stacked 3D arrays:\\n\", dstack_arr)\n"
      ],
      "metadata": {
        "id": "twrc9ZgViCmN",
        "colab": {
          "base_uri": "https://localhost:8080/"
        },
        "outputId": "7f482b98-7bd6-4836-e694-4d8f0306733d"
      },
      "execution_count": null,
      "outputs": [
        {
          "output_type": "stream",
          "name": "stdout",
          "text": [
            "Horizontally stacked arrays:\n",
            " [ 1  2  3  4  5  6  7  8  9 10]\n",
            "Depth stacked 3D arrays:\n",
            " [[[ 1  2  3  1  2  3]\n",
            "  [ 4  5  6  4  5  6]]\n",
            "\n",
            " [[ 7  8  9  7  8  9]\n",
            "  [10 11 12 10 11 12]]]\n"
          ]
        }
      ]
    },
    {
      "cell_type": "code",
      "source": [
        "# Create an array with a sequence of numbers\n",
        "sequence_arr = np.arange(1, 10, 2)\n",
        "print(\"Array with sequence of numbers:\\n\", sequence_arr)\n",
        "\n",
        "# Create an array with linearly spaced numbers\n",
        "linspace_arr = np.linspace(0, 10, 5)\n",
        "print(\"Array with linearly spaced numbers:\\n\", linspace_arr)\n",
        "\n",
        "# Create an array with logarithmically spaced numbers\n",
        "logspace_arr = np.logspace(0, 2, 5)\n",
        "print(\"Array with logarithmically spaced numbers:\\n\", logspace_arr)\n"
      ],
      "metadata": {
        "id": "GvL4S454iFoV",
        "colab": {
          "base_uri": "https://localhost:8080/"
        },
        "outputId": "5f55fa69-f7fb-4fc7-8175-5740a15948ec"
      },
      "execution_count": null,
      "outputs": [
        {
          "output_type": "stream",
          "name": "stdout",
          "text": [
            "Array with sequence of numbers:\n",
            " [1 3 5 7 9]\n",
            "Array with linearly spaced numbers:\n",
            " [ 0.   2.5  5.   7.5 10. ]\n",
            "Array with logarithmically spaced numbers:\n",
            " [  1.           3.16227766  10.          31.6227766  100.        ]\n"
          ]
        }
      ]
    },
    {
      "cell_type": "code",
      "source": [
        "# Random numbers\n",
        "# Create an array with random integers\n",
        "randint_arr = np.random.randint(0, 10, (3, 3))\n",
        "print(\"Array with random integers:\\n\", randint_arr)\n",
        "\n",
        "# Create an array with random values from a normal distribution\n",
        "randn_arr = np.random.randn(3, 3)\n",
        "print(\"Array with random values from a normal distribution:\\n\", randn_arr)\n",
        "\n",
        "# Set seed for reproducibility\n",
        "np.random.seed(42)\n",
        "seeded_rand_arr = np.random.rand(3, 3)\n",
        "print(\"Seeded random array for reproducibility:\\n\", seeded_rand_arr)\n"
      ],
      "metadata": {
        "id": "t-tClAzDiJso",
        "colab": {
          "base_uri": "https://localhost:8080/"
        },
        "outputId": "0a9f6bd5-6f63-467d-a51d-9f9d4e7d93c5"
      },
      "execution_count": null,
      "outputs": [
        {
          "output_type": "stream",
          "name": "stdout",
          "text": [
            "Array with random integers:\n",
            " [[8 6 5]\n",
            " [9 0 8]\n",
            " [9 6 6]]\n",
            "Array with random values from a normal distribution:\n",
            " [[-0.35265623 -1.01029987  0.18493181]\n",
            " [-0.06318649 -1.04187145 -1.43396953]\n",
            " [ 0.13404905 -1.61914005  0.07938242]]\n",
            "Seeded random array for reproducibility:\n",
            " [[0.37454012 0.95071431 0.73199394]\n",
            " [0.59865848 0.15601864 0.15599452]\n",
            " [0.05808361 0.86617615 0.60111501]]\n"
          ]
        }
      ]
    },
    {
      "cell_type": "code",
      "source": [
        "# Universal functions\n",
        "# Apply absolute value function\n",
        "abs_arr = np.abs(np.array([-1, -2, -3, 4, 5]))\n",
        "print(\"Absolute values:\\n\", abs_arr)\n",
        "\n",
        "# Apply square root function\n",
        "sqrt_arr = np.sqrt(arr1)\n",
        "print(\"Square root of elements in array:\\n\", sqrt_arr)\n",
        "\n",
        "# Apply power function\n",
        "power_arr = np.power(arr1, 2)\n",
        "print(\"Power function applied to array:\\n\", power_arr)\n"
      ],
      "metadata": {
        "colab": {
          "base_uri": "https://localhost:8080/"
        },
        "id": "lM-_Fz5Iietk",
        "outputId": "cccf7b85-4897-425b-c755-9956701f8fc3"
      },
      "execution_count": null,
      "outputs": [
        {
          "output_type": "stream",
          "name": "stdout",
          "text": [
            "Absolute values:\n",
            " [1 2 3 4 5]\n",
            "Square root of elements in array:\n",
            " [1.         1.41421356 1.73205081 2.         2.23606798]\n",
            "Power function applied to array:\n",
            " [ 1  4  9 16 25]\n"
          ]
        }
      ]
    },
    {
      "cell_type": "code",
      "source": [
        "# Cumulative functions\n",
        "# Cumulative sum\n",
        "cumsum_arr = np.cumsum(arr1)\n",
        "print(\"Cumulative sum of elements in array:\\n\", cumsum_arr)\n",
        "\n",
        "# Cumulative product\n",
        "cumprod_arr = np.cumprod(arr1)\n",
        "print(\"Cumulative product of elements in array:\\n\", cumprod_arr)\n"
      ],
      "metadata": {
        "colab": {
          "base_uri": "https://localhost:8080/"
        },
        "id": "vICJGl_bihSa",
        "outputId": "064bc67f-d690-42ee-8be9-ba5c484c0b50"
      },
      "execution_count": null,
      "outputs": [
        {
          "output_type": "stream",
          "name": "stdout",
          "text": [
            "Cumulative sum of elements in array:\n",
            " [ 1  3  6 10 15]\n",
            "Cumulative product of elements in array:\n",
            " [  1   2   6  24 120]\n"
          ]
        }
      ]
    },
    {
      "cell_type": "code",
      "source": [
        "# Moving averages\n",
        "def moving_average(a, n=3):\n",
        "    ret = np.cumsum(a, dtype=float)\n",
        "    ret[n:] = ret[n:] - ret[:-n]\n",
        "    return ret[n - 1:] / n\n",
        "\n",
        "mov_avg = moving_average(arr1, n=2)\n",
        "print(\"Moving average of array:\\n\", mov_avg)\n"
      ],
      "metadata": {
        "colab": {
          "base_uri": "https://localhost:8080/"
        },
        "id": "XcUE10X0ijzI",
        "outputId": "81e74f5c-8e84-41d1-dd8e-089d20133eeb"
      },
      "execution_count": null,
      "outputs": [
        {
          "output_type": "stream",
          "name": "stdout",
          "text": [
            "Moving average of array:\n",
            " [1.5 2.5 3.5 4.5]\n"
          ]
        }
      ]
    },
    {
      "cell_type": "code",
      "source": [
        "# Structured arrays\n",
        "# Create a structured array\n",
        "structured_arr = np.array([(1, 'John', 25), (2, 'Alice', 30)],\n",
        "                          dtype=[('id', 'i4'), ('name', 'U10'), ('age', 'i4')])\n",
        "print(\"Structured array:\\n\", structured_arr)\n",
        "\n",
        "# Accessing fields in structured array\n",
        "ids = structured_arr['id']\n",
        "names = structured_arr['name']\n",
        "ages = structured_arr['age']\n",
        "print(\"IDs from structured array:\\n\", ids)\n",
        "print(\"Names from structured array:\\n\", names)\n",
        "print(\"Ages from structured array:\\n\", ages)\n"
      ],
      "metadata": {
        "colab": {
          "base_uri": "https://localhost:8080/"
        },
        "id": "lWFd7MmLiqbX",
        "outputId": "248e48f0-85da-4b9c-a468-50a963d337b7"
      },
      "execution_count": null,
      "outputs": [
        {
          "output_type": "stream",
          "name": "stdout",
          "text": [
            "Structured array:\n",
            " [(1, 'John', 25) (2, 'Alice', 30)]\n",
            "IDs from structured array:\n",
            " [1 2]\n",
            "Names from structured array:\n",
            " ['John' 'Alice']\n",
            "Ages from structured array:\n",
            " [25 30]\n"
          ]
        }
      ]
    },
    {
      "cell_type": "code",
      "source": [
        "# Advanced indexing\n",
        "# Integer array indexing\n",
        "int_indexing = arr1[[0, 2, 4]]\n",
        "print(\"Integer array indexing:\\n\", int_indexing)\n",
        "\n",
        "# Boolean array indexing\n",
        "bool_indexing = arr1[arr1 > 2]\n",
        "print(\"Boolean array indexing:\\n\", bool_indexing)\n",
        "\n",
        "# Fancy indexing\n",
        "fancy_indexing = arr2[[0, 1], [1, 2]]\n",
        "print(\"Fancy indexing result:\\n\", fancy_indexing)\n"
      ],
      "metadata": {
        "id": "bqdsIuiZi0Gi",
        "outputId": "6d5f7944-17be-4d02-d32b-b1f420a10bee",
        "colab": {
          "base_uri": "https://localhost:8080/"
        }
      },
      "execution_count": null,
      "outputs": [
        {
          "output_type": "stream",
          "name": "stdout",
          "text": [
            "Integer array indexing:\n",
            " [1 3 5]\n",
            "Boolean array indexing:\n",
            " [3 4 5]\n",
            "Fancy indexing result:\n",
            " [2 6]\n"
          ]
        }
      ]
    },
    {
      "cell_type": "code",
      "source": [],
      "metadata": {
        "id": "5KXkJZ_Fi2w1"
      },
      "execution_count": null,
      "outputs": []
    }
  ],
  "metadata": {
    "colab": {
      "provenance": []
    },
    "kernelspec": {
      "display_name": "Python 3",
      "name": "python3"
    },
    "language_info": {
      "name": "python"
    }
  },
  "nbformat": 4,
  "nbformat_minor": 0
}