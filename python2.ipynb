{
  "nbformat": 4,
  "nbformat_minor": 0,
  "metadata": {
    "colab": {
      "provenance": [],
      "collapsed_sections": []
    },
    "kernelspec": {
      "name": "python3",
      "display_name": "Python 3"
    },
    "language_info": {
      "name": "python"
    }
  },
  "cells": [
    {
      "cell_type": "code",
      "execution_count": null,
      "metadata": {
        "colab": {
          "base_uri": "https://localhost:8080/"
        },
        "id": "E7uV8mg0Ypp_",
        "outputId": "620abf7d-610d-4f3b-ea67-bb7aa40c7293"
      },
      "outputs": [
        {
          "output_type": "stream",
          "name": "stdout",
          "text": [
            "found jigli puff\n"
          ]
        }
      ],
      "source": [
        "pokelist=[12,13,14,\"jigli puff\",\"1\",\"2\",\"3\"]\n",
        "for poke in pokelist:\n",
        "   #print(poke)\n",
        "  if poke==\"jigli puff\":\n",
        "    print(\"found jigli puff\")"
      ]
    },
    {
      "cell_type": "code",
      "source": [
        "v1=\"pikachu\"\n",
        "v2=\"raichu\"\n",
        "for v in v1:\n",
        "  print(v)\n",
        "for v in v2:\n",
        "  print(v)"
      ],
      "metadata": {
        "colab": {
          "base_uri": "https://localhost:8080/"
        },
        "id": "25PBkmlvbZtI",
        "outputId": "c97dbcd5-8c56-45a9-b590-9ebb00f42afb"
      },
      "execution_count": null,
      "outputs": [
        {
          "output_type": "stream",
          "name": "stdout",
          "text": [
            "p\n",
            "i\n",
            "k\n",
            "a\n",
            "c\n",
            "h\n",
            "u\n",
            "r\n",
            "a\n",
            "i\n",
            "c\n",
            "h\n",
            "u\n"
          ]
        }
      ]
    },
    {
      "cell_type": "code",
      "source": [
        "print(v1[-1])"
      ],
      "metadata": {
        "colab": {
          "base_uri": "https://localhost:8080/"
        },
        "id": "hRNBOlvlgCwP",
        "outputId": "f29425ee-a18b-4828-be0d-0fe331a58182"
      },
      "execution_count": null,
      "outputs": [
        {
          "output_type": "stream",
          "name": "stdout",
          "text": [
            "u\n"
          ]
        }
      ]
    },
    {
      "cell_type": "code",
      "source": [
        "print(v1[0])"
      ],
      "metadata": {
        "colab": {
          "base_uri": "https://localhost:8080/"
        },
        "id": "OqbI0dlEhYd3",
        "outputId": "16c204c6-4958-473e-f490-0d35ae6eae3e"
      },
      "execution_count": null,
      "outputs": [
        {
          "output_type": "stream",
          "name": "stdout",
          "text": [
            "p\n"
          ]
        }
      ]
    },
    {
      "cell_type": "code",
      "source": [
        "print(v1[1])"
      ],
      "metadata": {
        "colab": {
          "base_uri": "https://localhost:8080/"
        },
        "id": "1gF2yOE8he9w",
        "outputId": "958ff261-b776-4604-c862-e65975156e29"
      },
      "execution_count": null,
      "outputs": [
        {
          "output_type": "stream",
          "name": "stdout",
          "text": [
            "i\n"
          ]
        }
      ]
    },
    {
      "cell_type": "code",
      "source": [
        "print(v1[:3])"
      ],
      "metadata": {
        "colab": {
          "base_uri": "https://localhost:8080/"
        },
        "id": "BY0A8B5-hpww",
        "outputId": "c4a6a893-8427-4b82-d155-aa16870726eb"
      },
      "execution_count": null,
      "outputs": [
        {
          "output_type": "stream",
          "name": "stdout",
          "text": [
            "pik\n"
          ]
        }
      ]
    },
    {
      "cell_type": "code",
      "source": [
        "print(v1[-1:-4:-1])"
      ],
      "metadata": {
        "colab": {
          "base_uri": "https://localhost:8080/"
        },
        "id": "zcEHOEWfhuWJ",
        "outputId": "bc2d9398-07e3-490d-f0d3-040bf33f6e9a"
      },
      "execution_count": null,
      "outputs": [
        {
          "output_type": "stream",
          "name": "stdout",
          "text": [
            "uhc\n"
          ]
        }
      ]
    },
    {
      "cell_type": "code",
      "source": [
        "print(v1[-3:])"
      ],
      "metadata": {
        "colab": {
          "base_uri": "https://localhost:8080/"
        },
        "id": "EukKU1ojiIlR",
        "outputId": "2567e123-a0a8-4836-eb63-9a6e3c07bcc9"
      },
      "execution_count": null,
      "outputs": [
        {
          "output_type": "stream",
          "name": "stdout",
          "text": [
            "chu\n"
          ]
        }
      ]
    },
    {
      "cell_type": "code",
      "source": [
        "print(v1[::-1])"
      ],
      "metadata": {
        "colab": {
          "base_uri": "https://localhost:8080/"
        },
        "id": "Tct_ifNgjdUx",
        "outputId": "70c55e1f-1491-4a51-d34c-29624f0e6015"
      },
      "execution_count": null,
      "outputs": [
        {
          "output_type": "stream",
          "name": "stdout",
          "text": [
            "uhcakip\n"
          ]
        }
      ]
    },
    {
      "cell_type": "code",
      "source": [
        "l=[\"bulbasar_21\",\"coo coo_54\",\"squirtlo_142\",\"charmander_09\",\"groudon_69\",\"seviper_68\",\"pavas_00\",\"greninja_07\",\"gengar_69\",\"mew_11\",\"rockuy_12\",\"onyx_97\",\"raichu_22\",\"hoho_23\",\"palkia_27\",\"charlizard_43\"]\n",
        "for i in l:\n",
        "  k=i.startswith(\"g\")\n",
        "  if k==True:\n",
        "    l2=i.find(\"_\")\n",
        "    print(i[:l2])"
      ],
      "metadata": {
        "id": "yXQg5_38jlyM",
        "colab": {
          "base_uri": "https://localhost:8080/"
        },
        "outputId": "6b96bbdc-29f4-4773-8931-9c8b037e4d29"
      },
      "execution_count": 103,
      "outputs": [
        {
          "output_type": "stream",
          "name": "stdout",
          "text": [
            "groudon\n",
            "greninja\n",
            "gengar\n"
          ]
        }
      ]
    },
    {
      "cell_type": "code",
      "source": [
        "l=[\"bulbasar_21\",\"coo coo_54\",\"squirtlo_142\",\"charmander_09\",\"groudon_69\",\"seviper_68\",\"pavas_00\",\"greninja_07\",\"gengar_69\",\"mew_11\",\"rockuy_12\",\"onyx_97\",\"raichu_22\",\"hoho_23\",\"palkia_27\",\"charlizard_43\"]\n",
        "l2=[]\n",
        "for i in l[::2]:\n",
        "  l2.append(i)\n",
        "print(l2)\n",
        "l3=i.find(\"_\")"
      ],
      "metadata": {
        "colab": {
          "base_uri": "https://localhost:8080/"
        },
        "id": "o1sSfSMfAfnm",
        "outputId": "f7d3ef73-520a-4200-b31b-241edc079c3a"
      },
      "execution_count": 117,
      "outputs": [
        {
          "output_type": "stream",
          "name": "stdout",
          "text": [
            "['bulbasar_21', 'squirtlo_142', 'groudon_69', 'pavas_00', 'gengar_69', 'rockuy_12', 'raichu_22', 'palkia_27']\n"
          ]
        }
      ]
    },
    {
      "cell_type": "code",
      "source": [],
      "metadata": {
        "id": "A3-ftABRJyLp"
      },
      "execution_count": null,
      "outputs": []
    }
  ]
}