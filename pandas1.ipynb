{
 "cells": [
  {
   "cell_type": "code",
   "execution_count": 1,
   "id": "41991940",
   "metadata": {},
   "outputs": [],
   "source": [
    "# Importing pandas library\n",
    "import pandas as pd\n"
   ]
  },
  {
   "cell_type": "code",
   "execution_count": 2,
   "id": "d9dd513f",
   "metadata": {},
   "outputs": [
    {
     "name": "stdout",
     "output_type": "stream",
     "text": [
      "DataFrame from dictionary:\n",
      "     Name  Age         City\n",
      "0   John   23     New York\n",
      "1  Alice   30  Los Angeles\n",
      "2    Bob   25      Chicago\n"
     ]
    }
   ],
   "source": [
    "# Creating a DataFrame\n",
    "# Create a DataFrame from a dictionary\n",
    "data = {'Name': ['John', 'Alice', 'Bob'],\n",
    "        'Age': [23, 30, 25],\n",
    "        'City': ['New York', 'Los Angeles', 'Chicago']}\n",
    "df = pd.DataFrame(data)\n",
    "print(\"DataFrame from dictionary:\\n\", df)\n"
   ]
  },
  {
   "cell_type": "code",
   "execution_count": 3,
   "id": "83614b52",
   "metadata": {},
   "outputs": [
    {
     "name": "stdout",
     "output_type": "stream",
     "text": [
      "DataFrame from CSV file:\n",
      "         Rank                                               Name Platform  \\\n",
      "0        259                                          Asteroids     2600   \n",
      "1        545                                    Missile Command     2600   \n",
      "2       1768                                            Kaboom!     2600   \n",
      "3       1971                                           Defender     2600   \n",
      "4       2671                                             Boxing     2600   \n",
      "...      ...                                                ...      ...   \n",
      "16319  16565                                       Mighty No. 9     XOne   \n",
      "16320  16572                                 Resident Evil 4 HD     XOne   \n",
      "16321  16573                      Farming 2017 - The Simulation      PS4   \n",
      "16322  16579                                  Rugby Challenge 3     XOne   \n",
      "16323  16592  Chou Ezaru wa Akai Hana: Koi wa Tsuki ni Shiru...      PSV   \n",
      "\n",
      "       Year       Genre             Publisher  NA_Sales  EU_Sales  JP_Sales  \\\n",
      "0      1980     Shooter                 Atari      4.00      0.26      0.00   \n",
      "1      1980     Shooter                 Atari      2.56      0.17      0.00   \n",
      "2      1980        Misc            Activision      1.07      0.07      0.00   \n",
      "3      1980        Misc                 Atari      0.99      0.05      0.00   \n",
      "4      1980    Fighting            Activision      0.72      0.04      0.00   \n",
      "...     ...         ...                   ...       ...       ...       ...   \n",
      "16319  2016    Platform           Deep Silver      0.01      0.00      0.00   \n",
      "16320  2016     Shooter                Capcom      0.01      0.00      0.00   \n",
      "16321  2016  Simulation     UIG Entertainment      0.00      0.01      0.00   \n",
      "16322  2016      Sports  Alternative Software      0.00      0.01      0.00   \n",
      "16323  2016      Action       dramatic create      0.00      0.00      0.01   \n",
      "\n",
      "       Other_Sales  Global_Sales  \n",
      "0             0.05          4.31  \n",
      "1             0.03          2.76  \n",
      "2             0.01          1.15  \n",
      "3             0.01          1.05  \n",
      "4             0.01          0.77  \n",
      "...            ...           ...  \n",
      "16319         0.00          0.01  \n",
      "16320         0.00          0.01  \n",
      "16321         0.00          0.01  \n",
      "16322         0.00          0.01  \n",
      "16323         0.00          0.01  \n",
      "\n",
      "[16324 rows x 11 columns]\n"
     ]
    }
   ],
   "source": [
    "# Reading Data from a CSV File\n",
    "# Read a CSV file into a DataFrame\n",
    "df_csv = pd.read_csv('vgsales1.csv')\n",
    "print(\"DataFrame from CSV file:\\n\", df_csv)\n"
   ]
  },
  {
   "cell_type": "code",
   "execution_count": 4,
   "id": "cd518a63",
   "metadata": {},
   "outputs": [
    {
     "name": "stdout",
     "output_type": "stream",
     "text": [
      "DataFrame written to CSV file\n"
     ]
    }
   ],
   "source": [
    "# Writing Data to a CSV File\n",
    "# Write a DataFrame to a CSV file\n",
    "df.to_csv('output.csv', index=False)\n",
    "print(\"DataFrame written to CSV file\")\n"
   ]
  },
  {
   "cell_type": "code",
   "execution_count": 5,
   "id": "c0c27105",
   "metadata": {},
   "outputs": [
    {
     "name": "stdout",
     "output_type": "stream",
     "text": [
      "First few rows of the DataFrame:\n",
      "     Name  Age         City\n",
      "0   John   23     New York\n",
      "1  Alice   30  Los Angeles\n",
      "2    Bob   25      Chicago\n",
      "Last few rows of the DataFrame:\n",
      "     Name  Age         City\n",
      "0   John   23     New York\n",
      "1  Alice   30  Los Angeles\n",
      "2    Bob   25      Chicago\n"
     ]
    }
   ],
   "source": [
    "# Viewing Data\n",
    "# Display the first few rows of the DataFrame\n",
    "print(\"First few rows of the DataFrame:\\n\", df.head())\n",
    "\n",
    "# Display the last few rows of the DataFrame\n",
    "print(\"Last few rows of the DataFrame:\\n\", df.tail())\n"
   ]
  },
  {
   "cell_type": "code",
   "execution_count": 6,
   "id": "1ad6b18a",
   "metadata": {},
   "outputs": [
    {
     "name": "stdout",
     "output_type": "stream",
     "text": [
      "Age column:\n",
      " 0    23\n",
      "1    30\n",
      "2    25\n",
      "Name: Age, dtype: int64\n",
      "Name and City columns:\n",
      "     Name         City\n",
      "0   John     New York\n",
      "1  Alice  Los Angeles\n",
      "2    Bob      Chicago\n"
     ]
    }
   ],
   "source": [
    "# Selecting Columns\n",
    "# Select a single column\n",
    "age_column = df['Age']\n",
    "print(\"Age column:\\n\", age_column)\n",
    "\n",
    "# Select multiple columns\n",
    "name_city_columns = df[['Name', 'City']]\n",
    "print(\"Name and City columns:\\n\", name_city_columns)\n"
   ]
  },
  {
   "cell_type": "code",
   "execution_count": 7,
   "id": "07af8162",
   "metadata": {},
   "outputs": [
    {
     "name": "stdout",
     "output_type": "stream",
     "text": [
      "Descriptive statistics:\n",
      "              Age\n",
      "count   3.000000\n",
      "mean   26.000000\n",
      "std     3.605551\n",
      "min    23.000000\n",
      "25%    24.000000\n",
      "50%    25.000000\n",
      "75%    27.500000\n",
      "max    30.000000\n"
     ]
    }
   ],
   "source": [
    "# Descriptive Statistics\n",
    "# Get descriptive statistics for numerical columns\n",
    "print(\"Descriptive statistics:\\n\", df.describe())\n"
   ]
  },
  {
   "cell_type": "code",
   "execution_count": 8,
   "id": "5fc973d7",
   "metadata": {},
   "outputs": [
    {
     "name": "stdout",
     "output_type": "stream",
     "text": [
      "Rows where age is greater than 25:\n",
      "     Name  Age         City\n",
      "1  Alice   30  Los Angeles\n"
     ]
    }
   ],
   "source": [
    "# Filtering Rows\n",
    "# Filter rows based on a condition\n",
    "age_filter = df[df['Age'] > 25]\n",
    "print(\"Rows where age is greater than 25:\\n\", age_filter)\n"
   ]
  },
  {
   "cell_type": "code",
   "execution_count": 9,
   "id": "2e31ab4e",
   "metadata": {},
   "outputs": [
    {
     "name": "stdout",
     "output_type": "stream",
     "text": [
      "DataFrame with new Salary column:\n",
      "     Name  Age         City  Salary\n",
      "0   John   23     New York   50000\n",
      "1  Alice   30  Los Angeles   60000\n",
      "2    Bob   25      Chicago   55000\n"
     ]
    }
   ],
   "source": [
    "# Adding a New Column\n",
    "# Add a new column to the DataFrame\n",
    "df['Salary'] = [50000, 60000, 55000]\n",
    "print(\"DataFrame with new Salary column:\\n\", df)\n"
   ]
  },
  {
   "cell_type": "code",
   "execution_count": 10,
   "id": "a5f4ff88",
   "metadata": {},
   "outputs": [
    {
     "name": "stdout",
     "output_type": "stream",
     "text": [
      "DataFrame after dropping Salary column:\n",
      "     Name  Age         City\n",
      "0   John   23     New York\n",
      "1  Alice   30  Los Angeles\n",
      "2    Bob   25      Chicago\n"
     ]
    }
   ],
   "source": [
    "# Dropping Columns\n",
    "# Drop a column from the DataFrame\n",
    "df_dropped = df.drop(columns=['Salary'])\n",
    "print(\"DataFrame after dropping Salary column:\\n\", df_dropped)\n"
   ]
  },
  {
   "cell_type": "code",
   "execution_count": 11,
   "id": "d56645d6",
   "metadata": {},
   "outputs": [
    {
     "name": "stdout",
     "output_type": "stream",
     "text": [
      "DataFrame with renamed columns:\n",
      "   Full Name  Age     Location  Salary\n",
      "0      John   23     New York   50000\n",
      "1     Alice   30  Los Angeles   60000\n",
      "2       Bob   25      Chicago   55000\n"
     ]
    }
   ],
   "source": [
    "# Renaming Columns\n",
    "# Rename columns in the DataFrame\n",
    "df_renamed = df.rename(columns={'Name': 'Full Name', 'City': 'Location'})\n",
    "print(\"DataFrame with renamed columns:\\n\", df_renamed)\n"
   ]
  },
  {
   "cell_type": "code",
   "execution_count": 12,
   "id": "495241eb",
   "metadata": {},
   "outputs": [
    {
     "name": "stdout",
     "output_type": "stream",
     "text": [
      "DataFrame with missing values filled:\n",
      "     Name   Age         City  Salary\n",
      "0   John  23.0     New York   50000\n",
      "1  Alice   0.0  Los Angeles   60000\n",
      "2    Bob  25.0      Chicago   55000\n",
      "DataFrame with rows containing missing values dropped:\n",
      "    Name   Age      City  Salary\n",
      "0  John  23.0  New York   50000\n",
      "2   Bob  25.0   Chicago   55000\n"
     ]
    }
   ],
   "source": [
    "# Handling Missing Values\n",
    "# Fill missing values with a specified value\n",
    "df_missing = df.copy()\n",
    "df_missing.loc[1, 'Age'] = None\n",
    "df_filled = df_missing.fillna(0)\n",
    "print(\"DataFrame with missing values filled:\\n\", df_filled)\n",
    "\n",
    "# Drop rows with missing values\n",
    "df_dropped_na = df_missing.dropna()\n",
    "print(\"DataFrame with rows containing missing values dropped:\\n\", df_dropped_na)\n"
   ]
  },
  {
   "cell_type": "code",
   "execution_count": 13,
   "id": "c35d1f0b",
   "metadata": {},
   "outputs": [
    {
     "name": "stdout",
     "output_type": "stream",
     "text": [
      "Grouped data with mean age:\n",
      "               Age   Salary\n",
      "City                      \n",
      "Chicago      25.0  55000.0\n",
      "Los Angeles  30.0  60000.0\n",
      "New York     23.0  50000.0\n"
     ]
    },
    {
     "name": "stderr",
     "output_type": "stream",
     "text": [
      "C:\\Users\\KRUSHNA KOUSHIK\\AppData\\Local\\Temp\\ipykernel_5224\\2385340568.py:3: FutureWarning: The default value of numeric_only in DataFrameGroupBy.mean is deprecated. In a future version, numeric_only will default to False. Either specify numeric_only or select only columns which should be valid for the function.\n",
      "  grouped = df.groupby('City').mean()\n"
     ]
    }
   ],
   "source": [
    "# Grouping Data\n",
    "# Group data by a column and calculate aggregate statistics\n",
    "grouped = df.groupby('City').mean()\n",
    "print(\"Grouped data with mean age:\\n\", grouped)\n"
   ]
  },
  {
   "cell_type": "code",
   "execution_count": 14,
   "id": "5e5eff83",
   "metadata": {},
   "outputs": [
    {
     "name": "stdout",
     "output_type": "stream",
     "text": [
      "Merged DataFrame:\n",
      "     Name  Age         City  Salary_x  Salary_y\n",
      "0   John   23     New York     50000     50000\n",
      "1  Alice   30  Los Angeles     60000     60000\n",
      "2    Bob   25      Chicago     55000     55000\n"
     ]
    }
   ],
   "source": [
    "# Merging DataFrames\n",
    "# Merge two DataFrames\n",
    "data2 = {'Name': ['John', 'Alice', 'Bob'],\n",
    "         'Salary': [50000, 60000, 55000]}\n",
    "df2 = pd.DataFrame(data2)\n",
    "merged_df = pd.merge(df, df2, on='Name')\n",
    "print(\"Merged DataFrame:\\n\", merged_df)\n"
   ]
  },
  {
   "cell_type": "code",
   "execution_count": 15,
   "id": "b3d33871",
   "metadata": {},
   "outputs": [
    {
     "name": "stdout",
     "output_type": "stream",
     "text": [
      "Pivot table:\n",
      "              Age\n",
      "City            \n",
      "Chicago       25\n",
      "Los Angeles   30\n",
      "New York      23\n"
     ]
    }
   ],
   "source": [
    "# Pivot Tables\n",
    "# Create a pivot table from the DataFrame\n",
    "pivot_table = df.pivot_table(values='Age', index='City', aggfunc='mean')\n",
    "print(\"Pivot table:\\n\", pivot_table)\n"
   ]
  },
  {
   "cell_type": "code",
   "execution_count": 16,
   "id": "bdbe3091",
   "metadata": {},
   "outputs": [
    {
     "name": "stdout",
     "output_type": "stream",
     "text": [
      "DataFrame sorted by age:\n",
      "     Name  Age         City  Salary\n",
      "0   John   23     New York   50000\n",
      "2    Bob   25      Chicago   55000\n",
      "1  Alice   30  Los Angeles   60000\n"
     ]
    }
   ],
   "source": [
    "# Sorting Data\n",
    "# Sort the DataFrame by a column\n",
    "sorted_df = df.sort_values(by='Age')\n",
    "print(\"DataFrame sorted by age:\\n\", sorted_df)\n"
   ]
  },
  {
   "cell_type": "code",
   "execution_count": 17,
   "id": "5c6b2b56",
   "metadata": {},
   "outputs": [
    {
     "name": "stdout",
     "output_type": "stream",
     "text": [
      "DataFrame with Age in Months column:\n",
      "     Name  Age         City  Salary  Age in Months\n",
      "0   John   23     New York   50000            276\n",
      "1  Alice   30  Los Angeles   60000            360\n",
      "2    Bob   25      Chicago   55000            300\n"
     ]
    }
   ],
   "source": [
    "# Applying Functions\n",
    "# Apply a function to each element in a column\n",
    "df['Age in Months'] = df['Age'].apply(lambda x: x * 12)\n",
    "print(\"DataFrame with Age in Months column:\\n\", df)\n"
   ]
  },
  {
   "cell_type": "code",
   "execution_count": null,
   "id": "96060729",
   "metadata": {},
   "outputs": [],
   "source": []
  }
 ],
 "metadata": {
  "kernelspec": {
   "display_name": "Python 3 (ipykernel)",
   "language": "python",
   "name": "python3"
  },
  "language_info": {
   "codemirror_mode": {
    "name": "ipython",
    "version": 3
   },
   "file_extension": ".py",
   "mimetype": "text/x-python",
   "name": "python",
   "nbconvert_exporter": "python",
   "pygments_lexer": "ipython3",
   "version": "3.11.4"
  }
 },
 "nbformat": 4,
 "nbformat_minor": 5
}
