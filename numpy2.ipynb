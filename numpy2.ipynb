{
 "cells": [
  {
   "cell_type": "code",
   "execution_count": 1,
   "id": "b3cff46f",
   "metadata": {},
   "outputs": [
    {
     "name": "stdout",
     "output_type": "stream",
     "text": [
      "1D Array:\n",
      " [1 2 3 4 5]\n",
      "2D Array:\n",
      " [[1 2 3]\n",
      " [4 5 6]]\n",
      "3D Array:\n",
      " [[[ 1  2  3]\n",
      "  [ 4  5  6]]\n",
      "\n",
      " [[ 7  8  9]\n",
      "  [10 11 12]]]\n"
     ]
    }
   ],
   "source": [
    "# Importing numpy library\n",
    "import numpy as np\n",
    "\n",
    "# Create a 1D array\n",
    "arr1 = np.array([1, 2, 3, 4, 5])\n",
    "print(\"1D Array:\\n\", arr1)\n",
    "\n",
    "# Create a 2D array\n",
    "arr2 = np.array([[1, 2, 3], [4, 5, 6]])\n",
    "print(\"2D Array:\\n\", arr2)\n",
    "\n",
    "# Create a 3D array\n",
    "arr3 = np.array([[[1, 2, 3], [4, 5, 6]], [[7, 8, 9], [10, 11, 12]]])\n",
    "print(\"3D Array:\\n\", arr3)\n"
   ]
  },
  {
   "cell_type": "code",
   "execution_count": null,
   "id": "240c28e0",
   "metadata": {},
   "outputs": [],
   "source": []
  },
  {
   "cell_type": "code",
   "execution_count": 2,
   "id": "76ed441c",
   "metadata": {},
   "outputs": [
    {
     "name": "stdout",
     "output_type": "stream",
     "text": [
      "Shape of 2D array: (2, 3)\n",
      "Reshaped 1D to 2D array:\n",
      " [[1 2 3 4 5]]\n"
     ]
    }
   ],
   "source": [
    "# Get the shape of the array\n",
    "shape = arr2.shape\n",
    "print(\"Shape of 2D array:\", shape)\n",
    "\n",
    "# Reshape a 1D array to a 2D array\n",
    "reshaped_arr = arr1.reshape(1, 5)\n",
    "print(\"Reshaped 1D to 2D array:\\n\", reshaped_arr)\n"
   ]
  },
  {
   "cell_type": "code",
   "execution_count": 3,
   "id": "33e3ca52",
   "metadata": {},
   "outputs": [
    {
     "name": "stdout",
     "output_type": "stream",
     "text": [
      "Sliced array elements:\n",
      " [1 2]\n",
      "Second element in 1D array: 2\n"
     ]
    }
   ],
   "source": [
    "# Slice elements from the first row and first two columns\n",
    "slice_arr = arr2[0, 0:2]\n",
    "print(\"Sliced array elements:\\n\", slice_arr)\n",
    "\n",
    "# Indexing the second element in the 1D array\n",
    "index_value = arr1[1]\n",
    "print(\"Second element in 1D array:\", index_value)\n"
   ]
  },
  {
   "cell_type": "code",
   "execution_count": 4,
   "id": "c99088c3",
   "metadata": {},
   "outputs": [
    {
     "name": "stdout",
     "output_type": "stream",
     "text": [
      "Elements greater than 3 in 1D array:\n",
      " [4 5]\n"
     ]
    }
   ],
   "source": [
    "# Get elements greater than 3\n",
    "bool_index = arr1[arr1 > 3]\n",
    "print(\"Elements greater than 3 in 1D array:\\n\", bool_index)\n"
   ]
  },
  {
   "cell_type": "code",
   "execution_count": 5,
   "id": "49768824",
   "metadata": {},
   "outputs": [
    {
     "name": "stdout",
     "output_type": "stream",
     "text": [
      "Broadcasting: Adding 10 to 1D array:\n",
      " [11 12 13 14 15]\n"
     ]
    }
   ],
   "source": [
    "# Add a scalar to an array\n",
    "broadcast_arr = arr1 + 10\n",
    "print(\"Broadcasting: Adding 10 to 1D array:\\n\", broadcast_arr)\n"
   ]
  },
  {
   "cell_type": "code",
   "execution_count": 6,
   "id": "c8c951d7",
   "metadata": {},
   "outputs": [
    {
     "name": "stdout",
     "output_type": "stream",
     "text": [
      "Element-wise addition:\n",
      " [11 12 13 14 15]\n",
      "Element-wise subtraction:\n",
      " [0 1 2 3 4]\n",
      "Element-wise multiplication:\n",
      " [ 2  4  6  8 10]\n",
      "Element-wise division:\n",
      " [0.5 1.  1.5 2.  2.5]\n"
     ]
    }
   ],
   "source": [
    "# Element-wise addition\n",
    "add_arr = arr1 + np.array([10, 10, 10, 10, 10])\n",
    "print(\"Element-wise addition:\\n\", add_arr)\n",
    "\n",
    "# Element-wise subtraction\n",
    "sub_arr = arr1 - np.array([1, 1, 1, 1, 1])\n",
    "print(\"Element-wise subtraction:\\n\", sub_arr)\n",
    "\n",
    "# Element-wise multiplication\n",
    "mul_arr = arr1 * np.array([2, 2, 2, 2, 2])\n",
    "print(\"Element-wise multiplication:\\n\", mul_arr)\n",
    "\n",
    "# Element-wise division\n",
    "div_arr = arr1 / np.array([2, 2, 2, 2, 2])\n",
    "print(\"Element-wise division:\\n\", div_arr)\n"
   ]
  },
  {
   "cell_type": "code",
   "execution_count": 7,
   "id": "45e5d073",
   "metadata": {},
   "outputs": [
    {
     "name": "stdout",
     "output_type": "stream",
     "text": [
      "Matrix multiplication result:\n",
      " [[22 28]\n",
      " [49 64]]\n"
     ]
    }
   ],
   "source": [
    "# Matrix multiplication\n",
    "mat_mul = np.dot(arr2, np.array([[1, 2], [3, 4], [5, 6]]))\n",
    "print(\"Matrix multiplication result:\\n\", mat_mul)\n"
   ]
  },
  {
   "cell_type": "code",
   "execution_count": 8,
   "id": "b62a84ee",
   "metadata": {},
   "outputs": [
    {
     "name": "stdout",
     "output_type": "stream",
     "text": [
      "Sum of elements in 1D array: 15\n",
      "Mean of elements in 1D array: 3.0\n",
      "Standard deviation of elements in 1D array: 1.4142135623730951\n"
     ]
    }
   ],
   "source": [
    "# Sum of elements in the array\n",
    "sum_arr = np.sum(arr1)\n",
    "print(\"Sum of elements in 1D array:\", sum_arr)\n",
    "\n",
    "# Mean of elements in the array\n",
    "mean_arr = np.mean(arr1)\n",
    "print(\"Mean of elements in 1D array:\", mean_arr)\n",
    "\n",
    "# Standard deviation of elements in the array\n",
    "std_arr = np.std(arr1)\n",
    "print(\"Standard deviation of elements in 1D array:\", std_arr)\n"
   ]
  },
  {
   "cell_type": "code",
   "execution_count": 9,
   "id": "fca7b419",
   "metadata": {},
   "outputs": [
    {
     "name": "stdout",
     "output_type": "stream",
     "text": [
      "Transpose of 2D array:\n",
      " [[1 4]\n",
      " [2 5]\n",
      " [3 6]]\n"
     ]
    }
   ],
   "source": [
    "# Transpose a 2D array\n",
    "transpose_arr = arr2.T\n",
    "print(\"Transpose of 2D array:\\n\", transpose_arr)\n"
   ]
  },
  {
   "cell_type": "code",
   "execution_count": 10,
   "id": "2fdf5418",
   "metadata": {},
   "outputs": [
    {
     "name": "stdout",
     "output_type": "stream",
     "text": [
      "Concatenated array:\n",
      " [ 1  2  3  4  5  6  7  8  9 10]\n",
      "Vertically stacked array:\n",
      " [[ 1  2  3  4  5]\n",
      " [ 6  7  8  9 10]]\n"
     ]
    }
   ],
   "source": [
    "# Concatenate two 1D arrays\n",
    "concat_arr = np.concatenate((arr1, np.array([6, 7, 8, 9, 10])))\n",
    "print(\"Concatenated array:\\n\", concat_arr)\n",
    "\n",
    "# Stack two 1D arrays vertically\n",
    "stack_arr = np.vstack((arr1, np.array([6, 7, 8, 9, 10])))\n",
    "print(\"Vertically stacked array:\\n\", stack_arr)\n"
   ]
  },
  {
   "cell_type": "code",
   "execution_count": 11,
   "id": "f576cc6b",
   "metadata": {},
   "outputs": [
    {
     "name": "stdout",
     "output_type": "stream",
     "text": [
      "Split arrays:\n",
      " [array([1, 2]), array([3, 4]), array([5])]\n"
     ]
    }
   ],
   "source": [
    "# Split a 1D array into three arrays\n",
    "split_arr = np.array_split(arr1, 3)\n",
    "print(\"Split arrays:\\n\", split_arr)\n"
   ]
  },
  {
   "cell_type": "code",
   "execution_count": 12,
   "id": "5d6ca9c2",
   "metadata": {},
   "outputs": [
    {
     "name": "stdout",
     "output_type": "stream",
     "text": [
      "Array of zeros:\n",
      " [[0. 0. 0.]\n",
      " [0. 0. 0.]\n",
      " [0. 0. 0.]]\n",
      "Array of ones:\n",
      " [[1. 1. 1.]\n",
      " [1. 1. 1.]\n",
      " [1. 1. 1.]]\n",
      "Identity matrix:\n",
      " [[1. 0. 0.]\n",
      " [0. 1. 0.]\n",
      " [0. 0. 1.]]\n",
      "Random array:\n",
      " [[0.88651251 0.3668614  0.62299801]\n",
      " [0.17135744 0.98940584 0.60492157]\n",
      " [0.88912033 0.42862484 0.53837952]]\n"
     ]
    }
   ],
   "source": [
    "# Create an array of zeros\n",
    "zeros_arr = np.zeros((3, 3))\n",
    "print(\"Array of zeros:\\n\", zeros_arr)\n",
    "\n",
    "# Create an array of ones\n",
    "ones_arr = np.ones((3, 3))\n",
    "print(\"Array of ones:\\n\", ones_arr)\n",
    "\n",
    "# Create an identity matrix\n",
    "identity_matrix = np.eye(3)\n",
    "print(\"Identity matrix:\\n\", identity_matrix)\n",
    "\n",
    "# Create an array with random values\n",
    "random_arr = np.random.random((3, 3))\n",
    "print(\"Random array:\\n\", random_arr)\n"
   ]
  },
  {
   "cell_type": "code",
   "execution_count": 13,
   "id": "af1e7b18",
   "metadata": {},
   "outputs": [
    {
     "name": "stdout",
     "output_type": "stream",
     "text": [
      "Sorted 1D array:\n",
      " [1 2 3 4 5]\n"
     ]
    }
   ],
   "source": [
    "# Sort a 1D array\n",
    "sorted_arr = np.sort(arr1)\n",
    "print(\"Sorted 1D array:\\n\", sorted_arr)\n"
   ]
  },
  {
   "cell_type": "code",
   "execution_count": 14,
   "id": "42c8506c",
   "metadata": {},
   "outputs": [
    {
     "name": "stdout",
     "output_type": "stream",
     "text": [
      "Sin function applied to 1D array:\n",
      " [ 0.84147098  0.90929743  0.14112001 -0.7568025  -0.95892427]\n",
      "Exponential function applied to 1D array:\n",
      " [  2.71828183   7.3890561   20.08553692  54.59815003 148.4131591 ]\n",
      "Logarithm function applied to 1D array:\n",
      " [0.         0.69314718 1.09861229 1.38629436 1.60943791]\n"
     ]
    }
   ],
   "source": [
    "# Apply sin function to an array\n",
    "sin_arr = np.sin(arr1)\n",
    "print(\"Sin function applied to 1D array:\\n\", sin_arr)\n",
    "\n",
    "# Apply exponential function to an array\n",
    "exp_arr = np.exp(arr1)\n",
    "print(\"Exponential function applied to 1D array:\\n\", exp_arr)\n",
    "\n",
    "# Apply logarithm function to an array\n",
    "log_arr = np.log(arr1)\n",
    "print(\"Logarithm function applied to 1D array:\\n\", log_arr)\n"
   ]
  },
  {
   "cell_type": "code",
   "execution_count": 15,
   "id": "c498c517",
   "metadata": {},
   "outputs": [
    {
     "name": "stdout",
     "output_type": "stream",
     "text": [
      "Determinant of matrix:\n",
      " -2.0000000000000004\n",
      "Inverse of matrix:\n",
      " [[-2.   1. ]\n",
      " [ 1.5 -0.5]]\n",
      "Eigenvalues:\n",
      " [-0.37228132  5.37228132]\n",
      "Eigenvectors:\n",
      " [[-0.82456484 -0.41597356]\n",
      " [ 0.56576746 -0.90937671]]\n"
     ]
    }
   ],
   "source": [
    "# Calculate the determinant of a matrix\n",
    "determinant = np.linalg.det(np.array([[1, 2], [3, 4]]))\n",
    "print(\"Determinant of matrix:\\n\", determinant)\n",
    "\n",
    "# Calculate the inverse of a matrix\n",
    "inverse_matrix = np.linalg.inv(np.array([[1, 2], [3, 4]]))\n",
    "print(\"Inverse of matrix:\\n\", inverse_matrix)\n",
    "\n",
    "# Calculate eigenvalues and eigenvectors\n",
    "eigenvalues, eigenvectors = np.linalg.eig(np.array([[1, 2], [3, 4]]))\n",
    "print(\"Eigenvalues:\\n\", eigenvalues)\n",
    "print(\"Eigenvectors:\\n\", eigenvectors)\n"
   ]
  },
  {
   "cell_type": "code",
   "execution_count": null,
   "id": "4ecaf9ec",
   "metadata": {},
   "outputs": [],
   "source": []
  }
 ],
 "metadata": {
  "kernelspec": {
   "display_name": "Python 3 (ipykernel)",
   "language": "python",
   "name": "python3"
  },
  "language_info": {
   "codemirror_mode": {
    "name": "ipython",
    "version": 3
   },
   "file_extension": ".py",
   "mimetype": "text/x-python",
   "name": "python",
   "nbconvert_exporter": "python",
   "pygments_lexer": "ipython3",
   "version": "3.11.4"
  }
 },
 "nbformat": 4,
 "nbformat_minor": 5
}
