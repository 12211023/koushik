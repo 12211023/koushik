{
  "nbformat": 4,
  "nbformat_minor": 0,
  "metadata": {
    "colab": {
      "provenance": []
    },
    "kernelspec": {
      "name": "python3",
      "display_name": "Python 3"
    },
    "language_info": {
      "name": "python"
    }
  },
  "cells": [
    {
      "cell_type": "markdown",
      "source": [
        "1.Area Calculator\n"
      ],
      "metadata": {
        "id": "LwRp5LhOK1SN"
      }
    },
    {
      "cell_type": "code",
      "execution_count": 2,
      "metadata": {
        "colab": {
          "base_uri": "https://localhost:8080/"
        },
        "id": "j_Z0ByJtJJnd",
        "outputId": "71d623c1-bbdf-4f9c-ce27-aff83f3d39ee"
      },
      "outputs": [
        {
          "output_type": "stream",
          "name": "stdout",
          "text": [
            "Area of Rectangle: 50\n",
            "Area of Circle: 78.53981633974483\n",
            "Area of Square: 16\n"
          ]
        }
      ],
      "source": [
        "import math\n",
        "\n",
        "def calc_ar(shape, d):\n",
        "    if shape == \"rectangle\":\n",
        "        len, wid = d\n",
        "        return len * wid\n",
        "    elif shape == \"circle\":\n",
        "        rad = d[0]\n",
        "        return math.pi * rad ** 2\n",
        "    elif shape == \"square\":\n",
        "        side = d[0]\n",
        "        return side ** 2\n",
        "    else:\n",
        "        return \"Invalid shape\"\n",
        "\n",
        "rectangle_ar = calc_ar(\"rectangle\", (10, 5))\n",
        "circle_ar = calc_ar(\"circle\", (5,))\n",
        "square_ar = calc_ar(\"square\", (4,))\n",
        "\n",
        "print(\"Area of Rectangle:\", rectangle_ar)\n",
        "print(\"Area of Circle:\", circle_ar)\n",
        "print(\"Area of Square:\", square_ar)\n"
      ]
    },
    {
      "cell_type": "markdown",
      "source": [
        "2.String Manipulation\n"
      ],
      "metadata": {
        "id": "yWHX2tlgLCrU"
      }
    },
    {
      "cell_type": "code",
      "source": [
        "#Start your code from here.\n",
        "def reverse_words(text):\n",
        "    word = text.split()\n",
        "    reversed_word = word[::-1]\n",
        "    reversed_text = ' '.join(reversed_word)\n",
        "    return reversed_text\n",
        "\n",
        "input_text = \"Happy Man\"\n",
        "reversed_text = reverse_words(input_text)\n",
        "print(\"Original text :\", input_text)\n",
        "print(\"Reversed text :\", reversed_text)"
      ],
      "metadata": {
        "colab": {
          "base_uri": "https://localhost:8080/"
        },
        "id": "Rq9WfzmMKWCF",
        "outputId": "4ed5b1d2-83a2-4ee5-cff3-e14018444b6b"
      },
      "execution_count": 4,
      "outputs": [
        {
          "output_type": "stream",
          "name": "stdout",
          "text": [
            "Original text : Happy Man\n",
            "Reversed text : Man Happy\n"
          ]
        }
      ]
    },
    {
      "cell_type": "markdown",
      "source": [
        "3.List Statistics"
      ],
      "metadata": {
        "id": "zWojpSyYMg4g"
      }
    },
    {
      "cell_type": "code",
      "source": [
        "#Start your code from here.\n",
        "def analyze_list(nums):\n",
        "    min_val = min(nums)\n",
        "    max_val = max(nums)\n",
        "    avg_val = sum(nums) / len(nums)\n",
        "\n",
        "    impfn = {\n",
        "        'min_value' : min_val,\n",
        "        'max_value' : max_val,\n",
        "        'average_value' : avg_val,\n",
        "    }\n",
        "    return impfn\n",
        "\n",
        "l = [5, 25, 50, 75, 100]\n",
        "st = analyze_list(l)\n",
        "print(st)"
      ],
      "metadata": {
        "colab": {
          "base_uri": "https://localhost:8080/"
        },
        "id": "IB3Ju0ADL13v",
        "outputId": "bf20efaf-76f2-4e70-add4-4399db0698d0"
      },
      "execution_count": 5,
      "outputs": [
        {
          "output_type": "stream",
          "name": "stdout",
          "text": [
            "{'min_value': 5, 'max_value': 100, 'average_value': 51.0}\n"
          ]
        }
      ]
    },
    {
      "cell_type": "markdown",
      "source": [
        "4.Filtering with Lambda"
      ],
      "metadata": {
        "id": "WdKwrBO-N3jx"
      }
    },
    {
      "cell_type": "code",
      "source": [
        "def filter_names(names, max_length):\n",
        "    filters = list(filter(lambda name: len(name) < max_length, names))\n",
        "    return filters\n",
        "\n",
        "colurs = [\"red\", \"white\", \"Green\", \"Orange\", \"Black\"]\n",
        "max_length = 6\n",
        "short_names = filter_names(colurs, max_length)\n",
        "print(short_names)"
      ],
      "metadata": {
        "colab": {
          "base_uri": "https://localhost:8080/"
        },
        "id": "I4D_gv2hNf_V",
        "outputId": "002c6082-f80c-40b0-d57a-f8081b4c722e"
      },
      "execution_count": 6,
      "outputs": [
        {
          "output_type": "stream",
          "name": "stdout",
          "text": [
            "['red', 'white', 'Green', 'Black']\n"
          ]
        }
      ]
    },
    {
      "cell_type": "markdown",
      "source": [
        "5.Text analyser"
      ],
      "metadata": {
        "id": "V7xWjLDLOlBA"
      }
    },
    {
      "cell_type": "code",
      "source": [
        "def analyze_text(text):\n",
        "    text_lower = text.lower()\n",
        "    terms = text.split()\n",
        "    term_count = len(terms)\n",
        "    char_total = len(text.replace(\" \", \"\"))\n",
        "    term_frequency = {}\n",
        "    for term in terms:\n",
        "        if term in term_frequency:\n",
        "            term_frequency[term] += 1\n",
        "        else:\n",
        "            term_frequency[term] = 1\n",
        "\n",
        "    most_common = max(term_frequency, key=term_frequency.get)\n",
        "    analysis_results = {\n",
        "        'term_count' : term_count,\n",
        "        'char_total' : char_total,\n",
        "        'most_common' : most_common\n",
        "    }\n",
        "    return analysis_results\n",
        "\n",
        "text_sample = \"Sample text for analysis, sample text for testing purposes.\"\n",
        "results = analyze_text(text_sample)\n",
        "print(results)\n"
      ],
      "metadata": {
        "colab": {
          "base_uri": "https://localhost:8080/"
        },
        "id": "90HOzt4rOg1b",
        "outputId": "8c6881d8-138d-4f5d-e885-43d5e33ae14d"
      },
      "execution_count": 7,
      "outputs": [
        {
          "output_type": "stream",
          "name": "stdout",
          "text": [
            "{'term_count': 9, 'char_total': 51, 'most_common': 'text'}\n"
          ]
        }
      ]
    },
    {
      "cell_type": "code",
      "source": [],
      "metadata": {
        "id": "slqHs4LLPQjF"
      },
      "execution_count": null,
      "outputs": []
    }
  ]
}